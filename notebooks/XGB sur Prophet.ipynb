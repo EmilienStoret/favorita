{
 "cells": [
  {
   "cell_type": "code",
   "execution_count": 1,
   "id": "30492043",
   "metadata": {
    "ExecuteTime": {
     "end_time": "2022-12-07T16:36:32.240757Z",
     "start_time": "2022-12-07T16:36:31.406651Z"
    }
   },
   "outputs": [
    {
     "name": "stderr",
     "output_type": "stream",
     "text": [
      "/home/zelie/.pyenv/versions/3.10.6/envs/favorita/lib/python3.10/site-packages/tqdm/auto.py:22: TqdmWarning: IProgress not found. Please update jupyter and ipywidgets. See https://ipywidgets.readthedocs.io/en/stable/user_install.html\n",
      "  from .autonotebook import tqdm as notebook_tqdm\n"
     ]
    }
   ],
   "source": [
    "# Data processing\n",
    "import pandas as pd\n",
    "import numpy as np\n",
    "from datetime import datetime\n",
    "from pandas import Series\n",
    "\n",
    "# Visualization\n",
    "import seaborn as sns\n",
    "import matplotlib.pyplot as plt\n",
    "from statsmodels.graphics.tsaplots import plot_acf,plot_pacf\n",
    "from plotly.subplots import make_subplots\n",
    "from prophet.plot import plot_plotly\n",
    "from prophet.plot import plot_plotly, plot_components_plotly\n",
    "import plotly.graph_objs as go\n",
    "\n",
    "#model\n",
    "from prophet import Prophet\n",
    "from sklearn.linear_model import LinearRegression\n",
    "import xgboost as xgb\n",
    "from sklearn.model_selection import cross_val_score\n",
    "import sklearn.metrics\n",
    "\n",
    "#autres\n",
    "from typing import List\n",
    "from typing import Tuple\n",
    "import random\n"
   ]
  },
  {
   "cell_type": "markdown",
   "id": "d15341a2",
   "metadata": {},
   "source": [
    "# Data import & preprocessing"
   ]
  },
  {
   "cell_type": "code",
   "execution_count": 2,
   "id": "e1d8d1ef",
   "metadata": {
    "ExecuteTime": {
     "end_time": "2022-12-07T16:36:33.657570Z",
     "start_time": "2022-12-07T16:36:32.242797Z"
    }
   },
   "outputs": [],
   "source": [
    "#data import\n",
    "df_main = pd.read_csv('../Data/df_main_v4.csv')\n",
    "\n",
    "#group by date\n",
    "df = df_main.groupby(by='date').agg({'sales': 'sum','onpromotion':'sum', 'dcoilwtico':'mean','is_holiday':'mean'})\n",
    "\n",
    "#Round the price of the oil\n",
    "df['dcoilwtico']=df['dcoilwtico'].astype('int64')\n",
    "\n",
    "#reset index\n",
    "df.reset_index(inplace=True)\n",
    "df['date'] = pd.to_datetime(df['date'])\n",
    "\n",
    "#Name columns as prophet wants\n",
    "df.rename(columns={'date': 'ds', 'sales':'y'}, inplace=True)\n",
    "\n",
    "#suppresion of the last dates - just for our project\n",
    "df = df.iloc[:-46]\n",
    "\n",
    "#Creation of df train and test\n",
    "df_train = df.iloc[:-91]\n",
    "df_test = df.iloc[-91:]"
   ]
  },
  {
   "cell_type": "markdown",
   "id": "45df45a7",
   "metadata": {},
   "source": [
    "# Prophet Model"
   ]
  },
  {
   "cell_type": "code",
   "execution_count": 3,
   "id": "25398486",
   "metadata": {
    "ExecuteTime": {
     "end_time": "2022-12-07T16:36:35.680735Z",
     "start_time": "2022-12-07T16:36:33.659906Z"
    },
    "scrolled": true
   },
   "outputs": [
    {
     "name": "stderr",
     "output_type": "stream",
     "text": [
      "17:36:33 - cmdstanpy - INFO - Chain [1] start processing\n",
      "17:36:35 - cmdstanpy - INFO - Chain [1] done processing\n"
     ]
    }
   ],
   "source": [
    "#best params have been selected with a gridsearch before\n",
    "\n",
    "params_grid = {'seasonality_mode':(['additive']),\n",
    "               'changepoint_range':[0.8],\n",
    "               'changepoint_prior_scale':[0.7],\n",
    "               'seasonality_prior_scale':[0.4],\n",
    "               'prior_scale_is_holiday':[0.1],\n",
    "               'prior_scale_onpromotion':[0.002],\n",
    "               'prior_scale_dcoilwtico':[0.0001],\n",
    "               'fourier_order':[5]\n",
    "              }\n",
    "\n",
    "m = Prophet(changepoint_prior_scale = 0.7,\n",
    "            seasonality_prior_scale = 0.4,\n",
    "            changepoint_range=0.8,\n",
    "            seasonality_mode = 'additive',\n",
    "            weekly_seasonality=True,\n",
    "            daily_seasonality = False,\n",
    "            yearly_seasonality = True,\n",
    "            interval_width=0.95)\n",
    "m.add_regressor('is_holiday', prior_scale =0.1)\n",
    "m.add_regressor('onpromotion', prior_scale = 0.002)\n",
    "m.add_regressor('dcoilwtico', prior_scale = 0.0001)\n",
    "m.add_seasonality(name='monthly', period=30.417, fourier_order=5)\n",
    "model=m.fit(df_train[['ds', 'y', 'is_holiday', 'onpromotion', 'dcoilwtico']])\n",
    "\n",
    "#forecast from prophet\n",
    "df_loop = df\n",
    "future=m.make_future_dataframe(periods=91, freq= 'D')\n",
    "future.insert(1, 'onpromotion', df_loop['onpromotion'])\n",
    "future.insert(2, 'dcoilwtico', df_loop['dcoilwtico'])\n",
    "future.insert(3, 'is_holiday', df_loop['is_holiday'])\n",
    "\n",
    "\n",
    "forecast = m.predict(future)"
   ]
  },
  {
   "cell_type": "code",
   "execution_count": 4,
   "id": "316d2e23",
   "metadata": {
    "ExecuteTime": {
     "end_time": "2022-12-07T16:36:35.687112Z",
     "start_time": "2022-12-07T16:36:35.682447Z"
    }
   },
   "outputs": [],
   "source": [
    "def mape(y_true,y_pred):\n",
    "    return np.mean(np.abs((y_true - y_pred) / y_true)) * 100"
   ]
  },
  {
   "cell_type": "code",
   "execution_count": 5,
   "id": "b914f83e",
   "metadata": {
    "ExecuteTime": {
     "end_time": "2022-12-07T16:36:35.702759Z",
     "start_time": "2022-12-07T16:36:35.690652Z"
    },
    "scrolled": true
   },
   "outputs": [
    {
     "data": {
      "text/plain": [
       "6.709137005302478"
      ]
     },
     "execution_count": 5,
     "metadata": {},
     "output_type": "execute_result"
    }
   ],
   "source": [
    "y_true = np.array(df_loop['y'].tail(91))\n",
    "y_pred = np.array(forecast['yhat'].tail(91))\n",
    "mape = mape(y_true,y_pred)\n",
    "mape"
   ]
  },
  {
   "cell_type": "markdown",
   "id": "ce989ead",
   "metadata": {},
   "source": [
    "# XGBoost Model on Prophet"
   ]
  },
  {
   "cell_type": "markdown",
   "id": "33fe6e5f",
   "metadata": {},
   "source": [
    "## Lag Data preperation for XGB"
   ]
  },
  {
   "cell_type": "code",
   "execution_count": 6,
   "id": "20b1d411",
   "metadata": {
    "ExecuteTime": {
     "end_time": "2022-12-07T16:36:35.723360Z",
     "start_time": "2022-12-07T16:36:35.704574Z"
    }
   },
   "outputs": [],
   "source": [
    "#Merging the forecast results of Prophet with the initial df in order to have an y\n",
    "\n",
    "df_lags = pd.merge(left=forecast, right=df,left_on='ds', right_on='ds' )\n",
    "df_lags.set_index('ds', inplace=True)\n",
    "\n",
    "#Adding 3 lags to our model\n",
    "for lag in range(0,7):\n",
    "    df_lags[f'yhat_lag_{lag}']=df_lags['yhat'].shift(lag)\n",
    "    \n",
    "#Dropping the NAN due to the lags\n",
    "df_lags = df_lags.dropna(axis=0,how='any')\n",
    "\n",
    "\n",
    "#Creating an X --> everything but y and an Y --> y or Sales in this case\n",
    "X_lags = df_lags.drop(columns='y')\n",
    "y_lags = df_lags['y']\n",
    "\n",
    "#Creating a train and test dataset\n",
    "\n",
    "X_train = X_lags.iloc[:-91]\n",
    "X_test = X_lags.iloc[-91:]\n",
    "y_test = y_lags.iloc[-91:]\n",
    "y_train = y_lags.iloc[:-91]\n"
   ]
  },
  {
   "cell_type": "markdown",
   "id": "e2d4ab95",
   "metadata": {},
   "source": [
    "## XGB Model"
   ]
  },
  {
   "cell_type": "code",
   "execution_count": 7,
   "id": "3c3d7e57",
   "metadata": {
    "ExecuteTime": {
     "end_time": "2022-12-07T16:36:35.952509Z",
     "start_time": "2022-12-07T16:36:35.725515Z"
    }
   },
   "outputs": [],
   "source": [
    "model = xgb.XGBRegressor()\n",
    "model.fit(X_train,y_train)\n",
    "predictions = model.predict(X_test)"
   ]
  },
  {
   "cell_type": "code",
   "execution_count": 8,
   "id": "4abf3dde",
   "metadata": {
    "ExecuteTime": {
     "end_time": "2022-12-07T16:36:35.967604Z",
     "start_time": "2022-12-07T16:36:35.958441Z"
    }
   },
   "outputs": [
    {
     "data": {
      "text/plain": [
       "6.8306440049036645"
      ]
     },
     "execution_count": 8,
     "metadata": {},
     "output_type": "execute_result"
    }
   ],
   "source": [
    "y_test = np.array(y_test)\n",
    "y_true, y_pred = np.array(y_test), np.array(predictions)\n",
    "mape = np.mean(np.abs((y_true - y_pred) / y_true)) * 100\n",
    "mape"
   ]
  },
  {
   "cell_type": "code",
   "execution_count": 9,
   "id": "f3e14f1b",
   "metadata": {
    "ExecuteTime": {
     "end_time": "2022-12-07T16:37:52.142708Z",
     "start_time": "2022-12-07T16:36:35.970222Z"
    },
    "scrolled": true
   },
   "outputs": [
    {
     "name": "stdout",
     "output_type": "stream",
     "text": [
      "1 0\n",
      "1 1\n",
      "1 2\n",
      "1 3\n",
      "1 4\n",
      "1 5\n",
      "1 6\n",
      "1 7\n",
      "1 8\n",
      "1 9\n",
      "boucle finie\n",
      "2 0\n",
      "2 1\n",
      "2 2\n",
      "2 3\n",
      "2 4\n",
      "2 5\n",
      "2 6\n",
      "2 7\n",
      "2 8\n",
      "2 9\n",
      "boucle finie\n",
      "3 0\n",
      "3 1\n",
      "3 2\n",
      "3 3\n",
      "3 4\n",
      "3 5\n",
      "3 6\n",
      "3 7\n",
      "3 8\n",
      "3 9\n",
      "boucle finie\n",
      "4 0\n",
      "4 1\n",
      "4 2\n",
      "4 3\n",
      "4 4\n",
      "4 5\n",
      "4 6\n",
      "4 7\n",
      "4 8\n",
      "4 9\n",
      "boucle finie\n",
      "5 0\n",
      "5 1\n",
      "5 2\n",
      "5 3\n",
      "5 4\n",
      "5 5\n",
      "5 6\n",
      "5 7\n",
      "5 8\n",
      "5 9\n",
      "boucle finie\n",
      "6 0\n",
      "6 1\n",
      "6 2\n",
      "6 3\n",
      "6 4\n",
      "6 5\n",
      "6 6\n",
      "6 7\n",
      "6 8\n",
      "6 9\n",
      "boucle finie\n",
      "7 0\n",
      "7 1\n",
      "7 2\n",
      "7 3\n",
      "7 4\n",
      "7 5\n",
      "7 6\n",
      "7 7\n",
      "7 8\n",
      "7 9\n",
      "boucle finie\n",
      "8 0\n",
      "8 1\n",
      "8 2\n",
      "8 3\n",
      "8 4\n",
      "8 5\n",
      "8 6\n",
      "8 7\n",
      "8 8\n",
      "8 9\n",
      "boucle finie\n",
      "9 0\n",
      "9 1\n",
      "9 2\n",
      "9 3\n",
      "9 4\n",
      "9 5\n",
      "9 6\n",
      "9 7\n",
      "9 8\n",
      "9 9\n",
      "boucle finie\n"
     ]
    }
   ],
   "source": [
    "mape_mean = []\n",
    "lag_limit = 10\n",
    "lag = 1\n",
    "while lag < lag_limit:\n",
    "    df_lags = pd.merge(left=forecast, right=df,left_on='ds', right_on='ds' )\n",
    "    df_lags.set_index('ds', inplace=True)\n",
    "    df_lags_copy = df_lags.copy()\n",
    "    compteur = 0\n",
    "    mape_list = []\n",
    "    while compteur < 10:\n",
    "        print(lag,compteur)\n",
    "        for current_lag in range(1, lag):\n",
    "            df_lags_copy[f'yhat_lag_{current_lag}']=df_lags_copy['yhat'].shift(current_lag)\n",
    "\n",
    "        df_lags_copy = df_lags_copy.dropna(axis=0,how='any')\n",
    "        X_lags = df_lags_copy.drop(columns= 'y',axis=1)\n",
    "        y_lags = df_lags_copy['y']\n",
    "\n",
    "        X_train = X_lags.iloc[:-91]\n",
    "        X_test = X_lags.iloc[-91:]\n",
    "        y_test = y_lags.iloc[-91:]\n",
    "        y_train = y_lags.iloc[:-91]\n",
    "        model = xgb.XGBRegressor()\n",
    "        model.fit(X_train,y_train)\n",
    "        predictions = model.predict(X_test)\n",
    "        y_test = np.array(y_test)\n",
    "        y_true, y_pred = np.array(y_test), np.array(predictions)\n",
    "        mape = np.mean(np.abs((y_true - y_pred) / y_true)) * 100\n",
    "        mape_list.append(mape)\n",
    "        compteur +=1\n",
    "    print('boucle finie')\n",
    "    lag += 1\n",
    "    a = sum(mape_list)/len(mape_list)\n",
    "    mape_mean.append(a)\n",
    "        \n",
    "      "
   ]
  },
  {
   "cell_type": "code",
   "execution_count": 10,
   "id": "528ea594",
   "metadata": {
    "ExecuteTime": {
     "end_time": "2022-12-07T16:37:52.155212Z",
     "start_time": "2022-12-07T16:37:52.146830Z"
    },
    "scrolled": true
   },
   "outputs": [
    {
     "data": {
      "text/plain": [
       "[7.894618662957528,\n",
       " 7.6333570269196995,\n",
       " 7.293662576318975,\n",
       " 7.11306974138482,\n",
       " 6.882823654430806,\n",
       " 7.247578855032662,\n",
       " 6.998052474426918,\n",
       " 6.933588566792151,\n",
       " 7.092776973433125]"
      ]
     },
     "execution_count": 10,
     "metadata": {},
     "output_type": "execute_result"
    }
   ],
   "source": [
    "mape_mean"
   ]
  },
  {
   "cell_type": "code",
   "execution_count": null,
   "id": "5af050aa",
   "metadata": {},
   "outputs": [],
   "source": []
  }
 ],
 "metadata": {
  "kernelspec": {
   "display_name": "Python 3 (ipykernel)",
   "language": "python",
   "name": "python3"
  },
  "language_info": {
   "codemirror_mode": {
    "name": "ipython",
    "version": 3
   },
   "file_extension": ".py",
   "mimetype": "text/x-python",
   "name": "python",
   "nbconvert_exporter": "python",
   "pygments_lexer": "ipython3",
   "version": "3.10.6"
  },
  "toc": {
   "base_numbering": 1,
   "nav_menu": {},
   "number_sections": true,
   "sideBar": true,
   "skip_h1_title": false,
   "title_cell": "Table of Contents",
   "title_sidebar": "Contents",
   "toc_cell": false,
   "toc_position": {},
   "toc_section_display": true,
   "toc_window_display": false
  }
 },
 "nbformat": 4,
 "nbformat_minor": 5
}
