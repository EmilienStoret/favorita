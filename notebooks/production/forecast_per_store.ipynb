{
 "cells": [
  {
   "cell_type": "code",
   "execution_count": 107,
   "id": "957a7d0d",
   "metadata": {},
   "outputs": [],
   "source": [
    "import pandas as pd\n",
    "import numpy as np\n",
    "from prophet import Prophet\n",
    "from favorita import functions\n",
    "import warnings\n",
    "warnings.simplefilter(\"ignore\", DeprecationWarning)\n",
    "warnings.simplefilter(\"ignore\", FutureWarning, )\n",
    "import logging\n",
    "logger = logging.getLogger('cmdstanpy')\n",
    "logger.addHandler(logging.NullHandler())\n",
    "logger.propagate = False\n",
    "logger.setLevel(logging.CRITICAL)"
   ]
  },
  {
   "cell_type": "markdown",
   "id": "a5e312ff",
   "metadata": {},
   "source": [
    "# Get the best params from the Grid Search"
   ]
  },
  {
   "cell_type": "code",
   "execution_count": 108,
   "id": "e615341b",
   "metadata": {
    "scrolled": true
   },
   "outputs": [
    {
     "data": {
      "text/html": [
       "<div>\n",
       "<style scoped>\n",
       "    .dataframe tbody tr th:only-of-type {\n",
       "        vertical-align: middle;\n",
       "    }\n",
       "\n",
       "    .dataframe tbody tr th {\n",
       "        vertical-align: top;\n",
       "    }\n",
       "\n",
       "    .dataframe thead th {\n",
       "        text-align: right;\n",
       "    }\n",
       "</style>\n",
       "<table border=\"1\" class=\"dataframe\">\n",
       "  <thead>\n",
       "    <tr style=\"text-align: right;\">\n",
       "      <th></th>\n",
       "      <th>Unnamed: 0</th>\n",
       "      <th>changepoint_prior_scale</th>\n",
       "      <th>fourier_order</th>\n",
       "      <th>prior_scale_dcoilwtico</th>\n",
       "      <th>prior_scale_is_holiday</th>\n",
       "      <th>prior_scale_onpromotion</th>\n",
       "      <th>seasonality_mode</th>\n",
       "      <th>seasonality_prior_scale</th>\n",
       "      <th>mdape</th>\n",
       "    </tr>\n",
       "  </thead>\n",
       "  <tbody>\n",
       "    <tr>\n",
       "      <th>263</th>\n",
       "      <td>263</td>\n",
       "      <td>0.08</td>\n",
       "      <td>7</td>\n",
       "      <td>0.01</td>\n",
       "      <td>0.1</td>\n",
       "      <td>0.01</td>\n",
       "      <td>multiplicative</td>\n",
       "      <td>0.11</td>\n",
       "      <td>0.117857</td>\n",
       "    </tr>\n",
       "  </tbody>\n",
       "</table>\n",
       "</div>"
      ],
      "text/plain": [
       "     Unnamed: 0  changepoint_prior_scale  fourier_order  \\\n",
       "263         263                     0.08              7   \n",
       "\n",
       "     prior_scale_dcoilwtico  prior_scale_is_holiday  prior_scale_onpromotion  \\\n",
       "263                    0.01                     0.1                     0.01   \n",
       "\n",
       "    seasonality_mode  seasonality_prior_scale     mdape  \n",
       "263   multiplicative                     0.11  0.117857  "
      ]
     },
     "execution_count": 108,
     "metadata": {},
     "output_type": "execute_result"
    }
   ],
   "source": [
    "df_params = pd.read_csv('/home/emilien/code/EmilienStoret/favorita/Data/best_params_dataframe.csv')\n",
    "df_best_params = df_params[df_params['mdape']==df_params['mdape'].min()]\n",
    "df_best_params"
   ]
  },
  {
   "cell_type": "code",
   "execution_count": 109,
   "id": "36bc5478",
   "metadata": {},
   "outputs": [
    {
     "data": {
      "text/plain": [
       "263"
      ]
     },
     "execution_count": 109,
     "metadata": {},
     "output_type": "execute_result"
    }
   ],
   "source": [
    "index = df_best_params.index[0]\n",
    "index"
   ]
  },
  {
   "cell_type": "markdown",
   "id": "a9e9b1b0",
   "metadata": {},
   "source": [
    "# Get the train and test datasets for all the stores"
   ]
  },
  {
   "cell_type": "code",
   "execution_count": 110,
   "id": "665e3668",
   "metadata": {},
   "outputs": [
    {
     "data": {
      "text/html": [
       "<div>\n",
       "<style scoped>\n",
       "    .dataframe tbody tr th:only-of-type {\n",
       "        vertical-align: middle;\n",
       "    }\n",
       "\n",
       "    .dataframe tbody tr th {\n",
       "        vertical-align: top;\n",
       "    }\n",
       "\n",
       "    .dataframe thead th {\n",
       "        text-align: right;\n",
       "    }\n",
       "</style>\n",
       "<table border=\"1\" class=\"dataframe\">\n",
       "  <thead>\n",
       "    <tr style=\"text-align: right;\">\n",
       "      <th></th>\n",
       "      <th>id</th>\n",
       "      <th>date</th>\n",
       "      <th>store_nbr</th>\n",
       "      <th>family</th>\n",
       "      <th>sales</th>\n",
       "      <th>onpromotion</th>\n",
       "      <th>city</th>\n",
       "      <th>holidays</th>\n",
       "      <th>holidays_nat</th>\n",
       "      <th>is_holiday</th>\n",
       "      <th>dcoilwtico</th>\n",
       "    </tr>\n",
       "  </thead>\n",
       "  <tbody>\n",
       "    <tr>\n",
       "      <th>3008275</th>\n",
       "      <td>3000883</td>\n",
       "      <td>2017-08-15</td>\n",
       "      <td>9</td>\n",
       "      <td>POULTRY</td>\n",
       "      <td>438.133</td>\n",
       "      <td>0</td>\n",
       "      <td>Quito</td>\n",
       "      <td>0</td>\n",
       "      <td>0</td>\n",
       "      <td>0</td>\n",
       "      <td>47.57</td>\n",
       "    </tr>\n",
       "    <tr>\n",
       "      <th>3008276</th>\n",
       "      <td>3000884</td>\n",
       "      <td>2017-08-15</td>\n",
       "      <td>9</td>\n",
       "      <td>PREPARED FOODS</td>\n",
       "      <td>154.553</td>\n",
       "      <td>1</td>\n",
       "      <td>Quito</td>\n",
       "      <td>0</td>\n",
       "      <td>0</td>\n",
       "      <td>0</td>\n",
       "      <td>47.57</td>\n",
       "    </tr>\n",
       "    <tr>\n",
       "      <th>3008277</th>\n",
       "      <td>3000885</td>\n",
       "      <td>2017-08-15</td>\n",
       "      <td>9</td>\n",
       "      <td>PRODUCE</td>\n",
       "      <td>2419.729</td>\n",
       "      <td>148</td>\n",
       "      <td>Quito</td>\n",
       "      <td>0</td>\n",
       "      <td>0</td>\n",
       "      <td>0</td>\n",
       "      <td>47.57</td>\n",
       "    </tr>\n",
       "    <tr>\n",
       "      <th>3008278</th>\n",
       "      <td>3000886</td>\n",
       "      <td>2017-08-15</td>\n",
       "      <td>9</td>\n",
       "      <td>SCHOOL AND OFFICE SUPPLIES</td>\n",
       "      <td>121.000</td>\n",
       "      <td>8</td>\n",
       "      <td>Quito</td>\n",
       "      <td>0</td>\n",
       "      <td>0</td>\n",
       "      <td>0</td>\n",
       "      <td>47.57</td>\n",
       "    </tr>\n",
       "    <tr>\n",
       "      <th>3008279</th>\n",
       "      <td>3000887</td>\n",
       "      <td>2017-08-15</td>\n",
       "      <td>9</td>\n",
       "      <td>SEAFOOD</td>\n",
       "      <td>16.000</td>\n",
       "      <td>0</td>\n",
       "      <td>Quito</td>\n",
       "      <td>0</td>\n",
       "      <td>0</td>\n",
       "      <td>0</td>\n",
       "      <td>47.57</td>\n",
       "    </tr>\n",
       "  </tbody>\n",
       "</table>\n",
       "</div>"
      ],
      "text/plain": [
       "              id        date  store_nbr                      family     sales  \\\n",
       "3008275  3000883  2017-08-15          9                     POULTRY   438.133   \n",
       "3008276  3000884  2017-08-15          9              PREPARED FOODS   154.553   \n",
       "3008277  3000885  2017-08-15          9                     PRODUCE  2419.729   \n",
       "3008278  3000886  2017-08-15          9  SCHOOL AND OFFICE SUPPLIES   121.000   \n",
       "3008279  3000887  2017-08-15          9                     SEAFOOD    16.000   \n",
       "\n",
       "         onpromotion   city  holidays  holidays_nat  is_holiday  dcoilwtico  \n",
       "3008275            0  Quito         0             0           0       47.57  \n",
       "3008276            1  Quito         0             0           0       47.57  \n",
       "3008277          148  Quito         0             0           0       47.57  \n",
       "3008278            8  Quito         0             0           0       47.57  \n",
       "3008279            0  Quito         0             0           0       47.57  "
      ]
     },
     "execution_count": 110,
     "metadata": {},
     "output_type": "execute_result"
    }
   ],
   "source": [
    "df_main = pd.read_csv('/home/emilien/code/EmilienStoret/favorita/Data/df_main_V4.csv')\n",
    "df_main.tail()"
   ]
  },
  {
   "cell_type": "code",
   "execution_count": 111,
   "id": "2823e40d",
   "metadata": {
    "scrolled": true
   },
   "outputs": [
    {
     "data": {
      "text/html": [
       "<div>\n",
       "<style scoped>\n",
       "    .dataframe tbody tr th:only-of-type {\n",
       "        vertical-align: middle;\n",
       "    }\n",
       "\n",
       "    .dataframe tbody tr th {\n",
       "        vertical-align: top;\n",
       "    }\n",
       "\n",
       "    .dataframe thead th {\n",
       "        text-align: right;\n",
       "    }\n",
       "</style>\n",
       "<table border=\"1\" class=\"dataframe\">\n",
       "  <thead>\n",
       "    <tr style=\"text-align: right;\">\n",
       "      <th></th>\n",
       "      <th>ds</th>\n",
       "      <th>y</th>\n",
       "      <th>onpromotion</th>\n",
       "      <th>is_holiday</th>\n",
       "      <th>dcoilwtico</th>\n",
       "    </tr>\n",
       "  </thead>\n",
       "  <tbody>\n",
       "    <tr>\n",
       "      <th>0</th>\n",
       "      <td>2013-01-01</td>\n",
       "      <td>0.000</td>\n",
       "      <td>0</td>\n",
       "      <td>1.0</td>\n",
       "      <td>93.14</td>\n",
       "    </tr>\n",
       "    <tr>\n",
       "      <th>1</th>\n",
       "      <td>2013-01-02</td>\n",
       "      <td>4973.285</td>\n",
       "      <td>0</td>\n",
       "      <td>0.0</td>\n",
       "      <td>93.14</td>\n",
       "    </tr>\n",
       "    <tr>\n",
       "      <th>2</th>\n",
       "      <td>2013-01-03</td>\n",
       "      <td>3901.570</td>\n",
       "      <td>0</td>\n",
       "      <td>0.0</td>\n",
       "      <td>92.97</td>\n",
       "    </tr>\n",
       "    <tr>\n",
       "      <th>3</th>\n",
       "      <td>2013-01-04</td>\n",
       "      <td>3266.966</td>\n",
       "      <td>0</td>\n",
       "      <td>0.0</td>\n",
       "      <td>93.12</td>\n",
       "    </tr>\n",
       "    <tr>\n",
       "      <th>4</th>\n",
       "      <td>2013-01-05</td>\n",
       "      <td>4394.549</td>\n",
       "      <td>0</td>\n",
       "      <td>1.0</td>\n",
       "      <td>93.12</td>\n",
       "    </tr>\n",
       "  </tbody>\n",
       "</table>\n",
       "</div>"
      ],
      "text/plain": [
       "           ds         y  onpromotion  is_holiday  dcoilwtico\n",
       "0  2013-01-01     0.000            0         1.0       93.14\n",
       "1  2013-01-02  4973.285            0         0.0       93.14\n",
       "2  2013-01-03  3901.570            0         0.0       92.97\n",
       "3  2013-01-04  3266.966            0         0.0       93.12\n",
       "4  2013-01-05  4394.549            0         1.0       93.12"
      ]
     },
     "execution_count": 111,
     "metadata": {},
     "output_type": "execute_result"
    }
   ],
   "source": [
    "df_main_stores = df_main.groupby(['date','store_nbr']).agg({'sales':'sum',\n",
    "                                                         'onpromotion':'sum',\n",
    "                                                         'is_holiday':'mean',\n",
    "                                                         'dcoilwtico':'mean'})\n",
    "df_main_stores.reset_index(inplace=True)\n",
    "\n",
    "for i in range(1, df_main_stores['store_nbr'].max()+1):\n",
    "    df_loop=df_main_stores[df_main_stores['store_nbr']==i]\n",
    "    df_loop.reset_index(inplace=True, drop=True)\n",
    "    df_loop=df_loop.rename(columns={'date':'ds', 'sales':'y'})\n",
    "    df_loop.drop(columns='store_nbr', inplace=True)\n",
    "    globals()['df_store_'+str(i)] = df_loop\n",
    "    globals()['df_train_store_'+str(i)]=df_loop[df_loop['ds']<'2017-04-01']\n",
    "    globals()['df_test_store_'+str(i)]=df_loop[(df_loop['ds']>='2017-04-01')&(df_loop['ds']<'2017-07-01')]\n",
    "    globals()['df_test_store_'+str(i)].reset_index(inplace=True, drop=True)\n",
    "    \n",
    "df_store_54.head()"
   ]
  },
  {
   "cell_type": "markdown",
   "id": "ca01d493",
   "metadata": {},
   "source": [
    "# Drop the outliers"
   ]
  },
  {
   "cell_type": "code",
   "execution_count": 112,
   "id": "d58bf0fd",
   "metadata": {},
   "outputs": [
    {
     "name": "stderr",
     "output_type": "stream",
     "text": [
      "/tmp/ipykernel_32628/1933209214.py:5: SettingWithCopyWarning: \n",
      "A value is trying to be set on a copy of a slice from a DataFrame\n",
      "\n",
      "See the caveats in the documentation: https://pandas.pydata.org/pandas-docs/stable/user_guide/indexing.html#returning-a-view-versus-a-copy\n",
      "  globals()['df_train_store_'+str(i)].drop(index=df_outliers.index, inplace=True)\n"
     ]
    }
   ],
   "source": [
    "for i in range(1, df_main_stores['store_nbr'].max()+1):\n",
    "    q1, q3 = np.percentile(globals()['df_train_store_'+str(i)]['y'],[25,75])\n",
    "    IQR = q3-q1\n",
    "    df_outliers = globals()['df_train_store_'+str(i)][globals()['df_train_store_'+str(i)]['y']>3*IQR]\n",
    "    globals()['df_train_store_'+str(i)].drop(index=df_outliers.index, inplace=True)"
   ]
  },
  {
   "cell_type": "markdown",
   "id": "8cddcd48",
   "metadata": {},
   "source": [
    "# Train prophet"
   ]
  },
  {
   "cell_type": "code",
   "execution_count": 114,
   "id": "ace73bf5",
   "metadata": {},
   "outputs": [],
   "source": [
    "from tqdm import tqdm"
   ]
  },
  {
   "cell_type": "code",
   "execution_count": 115,
   "id": "fc61d202",
   "metadata": {
    "scrolled": true
   },
   "outputs": [
    {
     "name": "stderr",
     "output_type": "stream",
     "text": [
      "100%|███████████████████████████████████████████████████████████████████████████████████| 54/54 [00:52<00:00,  1.03it/s]\n"
     ]
    }
   ],
   "source": [
    "for i in tqdm(range(1, df_main_stores['store_nbr'].max()+1)):\n",
    "    \n",
    "    # Train the model\n",
    "    df_train = globals()['df_train_store_'+str(i)]\n",
    "\n",
    "    m = Prophet(changepoint_prior_scale = df_best_params['changepoint_prior_scale'][index],\n",
    "                seasonality_prior_scale = df_best_params['seasonality_prior_scale'][index],\n",
    "                seasonality_mode = df_best_params['seasonality_mode'][index],\n",
    "                weekly_seasonality=True,\n",
    "                daily_seasonality = False,\n",
    "                yearly_seasonality = True,\n",
    "                interval_width=0.95)\n",
    "    m.add_regressor('is_holiday', prior_scale = df_best_params['prior_scale_is_holiday'][index])\n",
    "    m.add_regressor('onpromotion', prior_scale = df_best_params['prior_scale_onpromotion'][index])\n",
    "    m.add_regressor('dcoilwtico', prior_scale = df_best_params['prior_scale_dcoilwtico'][index])\n",
    "    m.add_seasonality(name='monthly', period=30.417, fourier_order=df_best_params['fourier_order'][index])\n",
    "    model=m.fit(df_train[['ds', 'y', 'is_holiday', 'onpromotion', 'dcoilwtico']])\n",
    "\n",
    "    #forecast from prophet\n",
    "    df_loop = globals()['df_store_'+str(i)]\n",
    "    future=m.make_future_dataframe(periods=91, freq= 'D')\n",
    "    future.insert(1, 'is_holiday', df_loop['is_holiday'])\n",
    "    future.insert(2, 'onpromotion', df_loop['onpromotion'])\n",
    "    future.insert(3, 'dcoilwtico', df_loop['dcoilwtico'])\n",
    "    globals()['df_store_'+str(i)+'_pred'] = m.predict(future)\n",
    "    "
   ]
  },
  {
   "cell_type": "code",
   "execution_count": null,
   "id": "5bf9bfdd",
   "metadata": {},
   "outputs": [],
   "source": [
    "df_store_2_pred.head()"
   ]
  },
  {
   "cell_type": "code",
   "execution_count": null,
   "id": "f872d4eb",
   "metadata": {
    "scrolled": true
   },
   "outputs": [],
   "source": [
    "# Get MDAPE on Q2 2017\n",
    "\n",
    "d_score={'store_nbr':[], 'MAPE': []}\n",
    "\n",
    "for i in range(1, df_main_stores['store_nbr'].max()+1):\n",
    "    df_loop = globals()['df_store_'+str(i)+'_pred']\n",
    "    globals()['df_store_'+str(i)+'_pred_only']=df_loop[(df_loop['ds']>='2017-04-01')&(df_loop['ds']<'2017-07-01')]\n",
    "    globals()['df_store_'+str(i)+'_pred_only'].reset_index(inplace = True, drop =True)\n",
    "    mdape = abs((globals()['df_store_'+str(i)+'_pred_only']['yhat']-globals()['df_test_store_'+str(i)]['y'])\n",
    "                /globals()['df_test_store_'+str(i)]['y'])\n",
    "    d_score['store_nbr'].append(i)\n",
    "    d_score['MAPE'].append(mdape.mean())\n",
    "    \n",
    "d_score = pd.DataFrame(d_score)\n"
   ]
  },
  {
   "cell_type": "code",
   "execution_count": null,
   "id": "8e8d64f2",
   "metadata": {
    "scrolled": true
   },
   "outputs": [],
   "source": [
    "d_score"
   ]
  },
  {
   "cell_type": "markdown",
   "id": "82b88d43",
   "metadata": {},
   "source": [
    "# Compare the results with the baseline"
   ]
  },
  {
   "cell_type": "code",
   "execution_count": null,
   "id": "c3688ece",
   "metadata": {
    "scrolled": true
   },
   "outputs": [],
   "source": [
    "df_baseline_score = pd.read_csv('/home/emilien/code/EmilienStoret/favorita/Data/baseline_score.csv')\n",
    "df_baseline_score.rename(columns={\"store\":\"store_nbr\"}, inplace=True)\n"
   ]
  },
  {
   "cell_type": "code",
   "execution_count": null,
   "id": "d0ec4726",
   "metadata": {
    "scrolled": true
   },
   "outputs": [],
   "source": [
    "d_score['store_nbr'].head()"
   ]
  },
  {
   "cell_type": "code",
   "execution_count": null,
   "id": "4e86d4b0",
   "metadata": {},
   "outputs": [],
   "source": [
    "df_baseline_score['store_nbr'].head()"
   ]
  },
  {
   "cell_type": "code",
   "execution_count": null,
   "id": "aead3e33",
   "metadata": {},
   "outputs": [],
   "source": [
    "df_score = d_score.merge(df_baseline_score, on='store_nbr', how='left')\n",
    "df_score.drop(columns='Unnamed: 0', inplace = True)"
   ]
  },
  {
   "cell_type": "code",
   "execution_count": null,
   "id": "94f3fc32",
   "metadata": {
    "scrolled": true
   },
   "outputs": [],
   "source": [
    "df_score"
   ]
  },
  {
   "cell_type": "code",
   "execution_count": null,
   "id": "44fb2a26",
   "metadata": {
    "scrolled": true
   },
   "outputs": [],
   "source": [
    "#df_score.drop(columns='Unnamed: 0', inplace = True)\n",
    "df_score['is_better']=df_score['MAPE']-df_score['baseline_score']\n",
    "df_score['is_better']=df_score['is_better'].apply(lambda x: 1 if x<0 else 0)\n",
    "df_score"
   ]
  },
  {
   "cell_type": "code",
   "execution_count": null,
   "id": "81b8cc15",
   "metadata": {},
   "outputs": [],
   "source": [
    "df_score['is_better'].sum()"
   ]
  }
 ],
 "metadata": {
  "kernelspec": {
   "display_name": "Python 3 (ipykernel)",
   "language": "python",
   "name": "python3"
  },
  "language_info": {
   "codemirror_mode": {
    "name": "ipython",
    "version": 3
   },
   "file_extension": ".py",
   "mimetype": "text/x-python",
   "name": "python",
   "nbconvert_exporter": "python",
   "pygments_lexer": "ipython3",
   "version": "3.10.6"
  },
  "toc": {
   "base_numbering": 1,
   "nav_menu": {},
   "number_sections": true,
   "sideBar": true,
   "skip_h1_title": false,
   "title_cell": "Table of Contents",
   "title_sidebar": "Contents",
   "toc_cell": false,
   "toc_position": {},
   "toc_section_display": true,
   "toc_window_display": false
  },
  "varInspector": {
   "cols": {
    "lenName": 16,
    "lenType": 16,
    "lenVar": 40
   },
   "kernels_config": {
    "python": {
     "delete_cmd_postfix": "",
     "delete_cmd_prefix": "del ",
     "library": "var_list.py",
     "varRefreshCmd": "print(var_dic_list())"
    },
    "r": {
     "delete_cmd_postfix": ") ",
     "delete_cmd_prefix": "rm(",
     "library": "var_list.r",
     "varRefreshCmd": "cat(var_dic_list()) "
    }
   },
   "types_to_exclude": [
    "module",
    "function",
    "builtin_function_or_method",
    "instance",
    "_Feature"
   ],
   "window_display": false
  }
 },
 "nbformat": 4,
 "nbformat_minor": 5
}
